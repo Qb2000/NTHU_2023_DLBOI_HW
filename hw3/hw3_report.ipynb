{
  "cells": [
    {
      "cell_type": "markdown",
      "metadata": {
        "id": "view-in-github",
        "colab_type": "text"
      },
      "source": [
        "<a href=\"https://colab.research.google.com/github/Qb2000/NTHU_2023_DLBOI_HW/blob/main/hw3/hw3_report.ipynb\" target=\"_parent\"><img src=\"https://colab.research.google.com/assets/colab-badge.svg\" alt=\"Open In Colab\"/></a>"
      ]
    },
    {
      "cell_type": "markdown",
      "metadata": {
        "id": "Li0bVCTuxc6n"
      },
      "source": [
        "<div align=\"center\">\n",
        "\n",
        "# National Tsing Hua University\n",
        "\n",
        "### Fall 2023\n",
        "\n",
        "#### 11210IPT 553000\n",
        "\n",
        "#### Deep Learning in Biomedical Optical Imaging\n",
        "\n",
        "## Lab 4: Build a Convolution Neural Network\n",
        "\n",
        "</div>\n"
      ]
    },
    {
      "cell_type": "code",
      "execution_count": null,
      "metadata": {
        "id": "mGJcRwdzM7pS",
        "colab": {
          "base_uri": "https://localhost:8080/"
        },
        "outputId": "4452643a-7efe-44e0-d766-bf7ed0488c41"
      },
      "outputs": [
        {
          "output_type": "stream",
          "name": "stdout",
          "text": [
            "--2023-10-29 13:15:28--  https://raw.githubusercontent.com/TacoXDD/homeworks/master/dataset/train/normal.npy\n",
            "Resolving raw.githubusercontent.com (raw.githubusercontent.com)... 185.199.111.133, 185.199.109.133, 185.199.108.133, ...\n",
            "Connecting to raw.githubusercontent.com (raw.githubusercontent.com)|185.199.111.133|:443... connected.\n",
            "HTTP request sent, awaiting response... 200 OK\n",
            "Length: 65536128 (62M) [application/octet-stream]\n",
            "Saving to: ‘normal.npy’\n",
            "\n",
            "normal.npy          100%[===================>]  62.50M   253MB/s    in 0.2s    \n",
            "\n",
            "2023-10-29 13:15:29 (253 MB/s) - ‘normal.npy’ saved [65536128/65536128]\n",
            "\n",
            "--2023-10-29 13:15:29--  https://raw.githubusercontent.com/TacoXDD/homeworks/master/dataset/train/pneumonia.npy\n",
            "Resolving raw.githubusercontent.com (raw.githubusercontent.com)... 185.199.111.133, 185.199.109.133, 185.199.108.133, ...\n",
            "Connecting to raw.githubusercontent.com (raw.githubusercontent.com)|185.199.111.133|:443... connected.\n",
            "HTTP request sent, awaiting response... 200 OK\n",
            "Length: 65536128 (62M) [application/octet-stream]\n",
            "Saving to: ‘pneumonia.npy’\n",
            "\n",
            "pneumonia.npy       100%[===================>]  62.50M   220MB/s    in 0.3s    \n",
            "\n",
            "2023-10-29 13:15:30 (220 MB/s) - ‘pneumonia.npy’ saved [65536128/65536128]\n",
            "\n"
          ]
        }
      ],
      "source": [
        "# # Download dataset\n",
        "!wget https://raw.githubusercontent.com/TacoXDD/homeworks/master/dataset/train/normal.npy\n",
        "!wget https://raw.githubusercontent.com/TacoXDD/homeworks/master/dataset/train/pneumonia.npy"
      ]
    },
    {
      "cell_type": "markdown",
      "metadata": {
        "id": "w-1PsC--M7pT"
      },
      "source": [
        "## A. Data Loading and Preprocessing\n",
        "\n",
        "In Convolutional Neural Networks (CNNs), the convolution operation expects the input to have a specific shape, typically denoted as `[batch_size, channels, height, width]`. The \"channels\" dimension refers to the number of input channels (or depth) of the input data.\n",
        "\n",
        "For standard RGB images, this channels value is 3 (for red, green, and blue). For grayscale images, there's only one channel. For more specialized data, there could be more channels. For example, medical imaging modalities like MRI or CT can sometimes have multiple channels representing different types of scans or different views of the same scan.\n",
        "\n",
        "When working with data that doesn't naturally have a channels dimension (e.g., plain grayscale image arrays that are just `[height, width]`), you need to explicitly add a channels dimension to match the expected input format of the CNN. This is done using `.unsqueeze(1)` which adds an additional dimension at the 1st position (0-indexed), converting a shape like `[batch_size, height, width]` to `[batch_size, 1, height, width]`. The \"1\" here indicates a single channel.\n"
      ]
    },
    {
      "cell_type": "code",
      "execution_count": null,
      "metadata": {
        "id": "oScQ0GG6xc6r",
        "colab": {
          "base_uri": "https://localhost:8080/"
        },
        "outputId": "7ca48275-63d9-444f-da0c-074b1cee2ab6"
      },
      "outputs": [
        {
          "output_type": "stream",
          "name": "stdout",
          "text": [
            "Shape of abnormal_scans: (1000, 256, 256)\n",
            "Shape of normal_scans: (1000, 256, 256)\n",
            "Number of samples in train and validation are 1600 and 400.\n",
            "X_train: max value is 255.0, min value is 0.0, data type is torch.float32.\n"
          ]
        }
      ],
      "source": [
        "import torch\n",
        "from torch.utils.data import DataLoader, TensorDataset, random_split\n",
        "\n",
        "import numpy as np\n",
        "\n",
        "# Load Dataset\n",
        "abnormal_scans = np.load('pneumonia.npy')\n",
        "normal_scans = np.load('normal.npy')\n",
        "\n",
        "print(f'Shape of abnormal_scans: {abnormal_scans.shape}')\n",
        "print(f'Shape of normal_scans: {normal_scans.shape}')\n",
        "\n",
        "# For the data having presence of pneumonia assign 1, for the normal ones assign 0.\n",
        "\n",
        "abnormal_labels = np.ones((abnormal_scans.shape[0],))\n",
        "normal_labels = np.zeros((normal_scans.shape[0],))\n",
        "\n",
        "split_point = 800\n",
        "\n",
        "x_train = np.concatenate((abnormal_scans[:split_point], normal_scans[:split_point]), axis=0)\n",
        "y_train = np.concatenate((abnormal_labels[:split_point], normal_labels[:split_point]), axis=0)\n",
        "x_val = np.concatenate((abnormal_scans[split_point:], normal_scans[split_point:]), axis=0)\n",
        "y_val = np.concatenate((abnormal_labels[split_point:], normal_labels[split_point:]), axis=0)\n",
        "\n",
        "# Convert to PyTorch tensors\n",
        "x_train = torch.from_numpy(x_train).float().unsqueeze(1)\n",
        "y_train = torch.from_numpy(y_train).long()\n",
        "x_val = torch.from_numpy(x_val).float().unsqueeze(1)\n",
        "y_val = torch.from_numpy(y_val).long()\n",
        "\n",
        "# Create datasets\n",
        "train_dataset = TensorDataset(x_train, y_train)\n",
        "val_dataset = TensorDataset(x_val, y_val)\n",
        "\n",
        "# Create dataloaders\n",
        "train_loader = DataLoader(train_dataset, batch_size=32, shuffle=True)\n",
        "val_loader = DataLoader(val_dataset, batch_size=32, shuffle=False)\n",
        "\n",
        "print(f'Number of samples in train and validation are {len(train_loader.dataset)} and {len(val_loader.dataset)}.')\n",
        "print(f'X_train: max value is {x_train.max().item()}, min value is {x_train.min().item()}, data type is {x_train.dtype}.')"
      ]
    },
    {
      "cell_type": "markdown",
      "metadata": {
        "id": "oaLGtT28xc6s"
      },
      "source": [
        "## B. Defining Neural Networks\n",
        "\n",
        "### 1. Use the **Class**\n",
        "\n",
        "In PyTorch, we define our custom neural network architectures by subclassing the `nn.Module` class. This gives our neural network all the functionality it needs to work with PyTorch's other utilities and keeps our implementation organized.\n",
        "\n",
        "- Neural networks are defined by subclassing `nn.Module`.\n",
        "- The layers of the neural network are initialized in the `__init__` method.\n",
        "- The forward pass operations on input data are defined in the `forward` method.\n",
        "\n",
        "It's worth noting that while we only define the forward pass, PyTorch will automatically derive the backward pass for us, which is used during training to update the model's weights.\""
      ]
    },
    {
      "cell_type": "markdown",
      "metadata": {
        "id": "ligJpNAJ0bPX"
      },
      "source": [
        "```python\n",
        "import torch.nn as nn\n",
        "import torch.nn.functional as F\n",
        "\n",
        "# model = nn.Sequential(\n",
        "#     nn.Flatten(),\n",
        "#     nn.Linear(256*256*1, 32), # 1st FC\n",
        "#     nn.ReLU(),\n",
        "#     nn.Linear(32, 32),        # 2nd FC\n",
        "#     nn.ReLU(),\n",
        "#     nn.Linear(32, 32),        # 3rd FC\n",
        "#     nn.ReLU(),\n",
        "#     nn.Linear(32, 1)          # 4th FC\n",
        "# ).cuda()\n",
        "\n",
        "class LinearModel(nn.Module):\n",
        "    def __init__(self):\n",
        "        super().__init__()\n",
        "        self.flatten = nn.Flatten()\n",
        "        self.fc1 = nn.Linear(256*256*1, 32)\n",
        "        self.fc2 = nn.Linear(32, 32)\n",
        "        self.fc3 = nn.Linear(32, 32)\n",
        "        self.fc4 = nn.Linear(32, 1)\n",
        "\n",
        "    def forward(self, x):\n",
        "        x = self.flatten(x)\n",
        "        x = F.relu(self.fc1(x))\n",
        "        x = F.relu(self.fc2(x))\n",
        "        x = F.relu(self.fc3(x))\n",
        "        return self.fc4(x)\n",
        "\n",
        "model = LinearModel()\n",
        "print(model)\n",
        "```\n",
        "\n",
        "```\n",
        "LinearModel(\n",
        "  (flatten): Flatten(start_dim=1, end_dim=-1)\n",
        "  (fc1): Linear(in_features=65536, out_features=32, bias=True)\n",
        "  (fc2): Linear(in_features=32, out_features=32, bias=True)\n",
        "  (fc3): Linear(in_features=32, out_features=32, bias=True)\n",
        "  (fc4): Linear(in_features=32, out_features=1, bias=True)\n",
        ")\n",
        "```"
      ]
    },
    {
      "cell_type": "markdown",
      "metadata": {
        "id": "l0t9Er170bPX"
      },
      "source": [
        "### 2. ann2cnn\n",
        "\n",
        "To transition a model from an ANN to a CNN using `nn.Conv2d` layers, we make the following changes:\n",
        "\n",
        "- Replace `nn.Linear` layers with `nn.Conv2d` layers for the initial layers.\n",
        "- Add pooling layers after convolutional layers for spatial dimension reduction.\n",
        "- Introduce a flattening step before transitioning to fully connected layers.\n",
        "- Adjust the `forward` method to handle the convolutional and pooling operations and reshaping."
      ]
    },
    {
      "cell_type": "code",
      "execution_count": null,
      "metadata": {
        "id": "rxe4Srme0bPY"
      },
      "outputs": [],
      "source": [
        "import torch.nn as nn\n",
        "import torch.nn.functional as F\n",
        "\n",
        "class ConvModel(nn.Module):\n",
        "    def __init__(self):\n",
        "        super().__init__()\n",
        "\n",
        "        # 1 channel, and using 3x3 kernels for simplicity, 256*256\n",
        "        self.conv1 = nn.Conv2d(1, 32, kernel_size=3, stride=1, padding='same')\n",
        "        self.pool1 = nn.MaxPool2d(kernel_size=2, stride=2) # 128*128\n",
        "\n",
        "        self.conv2 = nn.Conv2d(32, 32, kernel_size=3, stride=1, padding='same') # 128*128\n",
        "        self.pool2 = nn.MaxPool2d(kernel_size=2, stride=2) # 64*64\n",
        "\n",
        "        self.conv3 = nn.Conv2d(32, 32, kernel_size=3, stride=1, padding='same') # 64*64\n",
        "\n",
        "        self.pool3 = nn.MaxPool2d(kernel_size=2, stride=2) # 32*32\n",
        "\n",
        "        # Adjust flattened dimensions based on the output size of your last pooling layer\n",
        "        flattened_dim = 32 * 32 * 32\n",
        "\n",
        "        self.fc1 = nn.Linear(flattened_dim, 32)\n",
        "\n",
        "        self.fc2 = nn.Linear(32, 1)\n",
        "    def forward(self, x):\n",
        "        x = F.relu(self.conv1(x))\n",
        "        x = self.pool1(x)\n",
        "\n",
        "        x = F.relu(self.conv2(x))\n",
        "        x = self.pool2(x)\n",
        "\n",
        "        x = F.relu(self.conv3(x))\n",
        "\n",
        "        x = self.pool3(x)\n",
        "        # Flatten the output for the fully connected layers\n",
        "        x = x.reshape(x.size(0), -1)  # x.size(0) is the batch size\n",
        "        x = F.relu(self.fc1(x))\n",
        "\n",
        "\n",
        "\n",
        "        return self.fc2(x)"
      ]
    },
    {
      "cell_type": "code",
      "execution_count": null,
      "metadata": {
        "id": "kFKFyHNx0bPY"
      },
      "outputs": [],
      "source": [
        "class ConvGAP(nn.Module):\n",
        "    def __init__(self):\n",
        "        super().__init__()\n",
        "\n",
        "        self.net = nn.Sequential(\n",
        "            nn.Conv2d(1, 32, kernel_size=3, stride=1, padding='same') ,\n",
        "            nn.ReLU(),\n",
        "            nn.MaxPool2d(kernel_size=2, stride=2), # 128*128\n",
        "            nn.Conv2d(32, 32, kernel_size=3, stride=1, padding='same'), # 128*128\n",
        "            nn.ReLU(),\n",
        "            nn.MaxPool2d(kernel_size=2, stride=2), # 64*64\n",
        "            nn.Conv2d(32, 32, kernel_size=3, stride=1, padding='same'), # 64*64\n",
        "            nn.ReLU(),\n",
        "            nn.MaxPool2d(kernel_size=2, stride=2), # 32*32\n",
        "\n",
        "            nn.AdaptiveAvgPool2d(1),\n",
        "            nn.Flatten(),\n",
        "            nn.Linear(32, 1)\n",
        "        )\n",
        "\n",
        "    def forward(self, x):\n",
        "\n",
        "        x = self.net(x)\n",
        "        return x"
      ]
    },
    {
      "cell_type": "markdown",
      "metadata": {
        "id": "nvLTU-IfZLqn"
      },
      "source": [
        "## C. Training the Neural Network\n",
        "\n",
        "`model = model.cuda()` moves the model's parameters and buffers to the GPU memory."
      ]
    },
    {
      "cell_type": "code",
      "execution_count": null,
      "metadata": {
        "id": "45ol4lpVxc6t",
        "colab": {
          "base_uri": "https://localhost:8080/",
          "height": 851,
          "referenced_widgets": [
            "7c3851d7d70648f5ba7231ffccaff56e",
            "5878cab5af134ac28807706155fe6608",
            "851bb97a802e4063bce4c19552f2c6d2",
            "d574702d6e97428f9b43e71b8b5eb03e",
            "64849f1d6d5a48f5855a75262051ca43",
            "be9afd9457fb4651b15ef3b56e1a6519",
            "72f65673ed3d464585ac47cfcc2426fc",
            "3ed11c92008c4b529ff3ca959b536f56",
            "381217bb9bf44b5d9d3b9f698fa1ad48",
            "b7c2b41831c44378a8ca83a06b749996",
            "d65c2e117d9e45e882f62214fc9672a5"
          ]
        },
        "outputId": "96c15c2a-eba4-460b-b13d-535686b8b551"
      },
      "outputs": [
        {
          "output_type": "stream",
          "name": "stdout",
          "text": [
            "ConvModel(\n",
            "  (conv1): Conv2d(1, 32, kernel_size=(3, 3), stride=(1, 1), padding=same)\n",
            "  (droupout1): Dropout(p=0.6, inplace=False)\n",
            "  (pool1): MaxPool2d(kernel_size=2, stride=2, padding=0, dilation=1, ceil_mode=False)\n",
            "  (conv2): Conv2d(32, 32, kernel_size=(3, 3), stride=(1, 1), padding=same)\n",
            "  (droupout2): Dropout(p=0.6, inplace=False)\n",
            "  (pool2): MaxPool2d(kernel_size=2, stride=2, padding=0, dilation=1, ceil_mode=False)\n",
            "  (conv3): Conv2d(32, 32, kernel_size=(3, 3), stride=(1, 1), padding=same)\n",
            "  (droupout3): Dropout(p=0.6, inplace=False)\n",
            "  (pool3): MaxPool2d(kernel_size=2, stride=2, padding=0, dilation=1, ceil_mode=False)\n",
            "  (fc1): Linear(in_features=32768, out_features=32, bias=True)\n",
            "  (droupout): Dropout(p=0.6, inplace=False)\n",
            "  (fc2): Linear(in_features=32, out_features=1, bias=True)\n",
            ")\n"
          ]
        },
        {
          "output_type": "display_data",
          "data": {
            "text/plain": [
              "  0%|          | 0/30 [00:00<?, ?it/s]"
            ],
            "application/vnd.jupyter.widget-view+json": {
              "version_major": 2,
              "version_minor": 0,
              "model_id": "7c3851d7d70648f5ba7231ffccaff56e"
            }
          },
          "metadata": {}
        },
        {
          "output_type": "stream",
          "name": "stdout",
          "text": [
            "Epoch 1/30, Train loss: 0.6697, Train acc: 55.56%, Val loss: 0.5436, Val acc: 83.75%, Best Val loss: 0.5436 Best Val acc: 83.75%\n",
            "Epoch 2/30, Train loss: 0.3480, Train acc: 83.88%, Val loss: 0.3180, Val acc: 92.25%, Best Val loss: 0.3180 Best Val acc: 92.25%\n",
            "Epoch 3/30, Train loss: 0.2534, Train acc: 88.19%, Val loss: 0.1703, Val acc: 95.00%, Best Val loss: 0.1703 Best Val acc: 95.00%\n",
            "Epoch 4/30, Train loss: 0.1984, Train acc: 90.38%, Val loss: 0.1999, Val acc: 94.25%, Best Val loss: 0.1703 Best Val acc: 95.00%\n",
            "Epoch 5/30, Train loss: 0.1939, Train acc: 90.62%, Val loss: 0.1638, Val acc: 97.00%, Best Val loss: 0.1638 Best Val acc: 97.00%\n",
            "Epoch 6/30, Train loss: 0.1693, Train acc: 91.94%, Val loss: 0.1402, Val acc: 94.75%, Best Val loss: 0.1402 Best Val acc: 97.00%\n",
            "Epoch 7/30, Train loss: 0.1591, Train acc: 91.81%, Val loss: 0.1318, Val acc: 96.50%, Best Val loss: 0.1318 Best Val acc: 97.00%\n",
            "Epoch 8/30, Train loss: 0.1687, Train acc: 92.00%, Val loss: 0.1710, Val acc: 96.00%, Best Val loss: 0.1318 Best Val acc: 97.00%\n",
            "Epoch 9/30, Train loss: 0.1395, Train acc: 92.88%, Val loss: 0.1310, Val acc: 96.75%, Best Val loss: 0.1310 Best Val acc: 97.00%\n",
            "Epoch 10/30, Train loss: 0.1201, Train acc: 94.69%, Val loss: 0.1246, Val acc: 95.75%, Best Val loss: 0.1246 Best Val acc: 97.00%\n",
            "Epoch 11/30, Train loss: 0.1179, Train acc: 95.62%, Val loss: 0.1243, Val acc: 96.00%, Best Val loss: 0.1243 Best Val acc: 97.00%\n",
            "Epoch 12/30, Train loss: 0.1111, Train acc: 95.69%, Val loss: 0.1116, Val acc: 96.50%, Best Val loss: 0.1116 Best Val acc: 97.00%\n",
            "Epoch 13/30, Train loss: 0.1043, Train acc: 96.50%, Val loss: 0.1193, Val acc: 96.50%, Best Val loss: 0.1116 Best Val acc: 97.00%\n",
            "Epoch 14/30, Train loss: 0.1011, Train acc: 95.88%, Val loss: 0.1066, Val acc: 97.00%, Best Val loss: 0.1066 Best Val acc: 97.00%\n",
            "Epoch 15/30, Train loss: 0.0881, Train acc: 96.38%, Val loss: 0.1030, Val acc: 96.75%, Best Val loss: 0.1030 Best Val acc: 97.00%\n",
            "Epoch 16/30, Train loss: 0.0952, Train acc: 96.06%, Val loss: 0.1070, Val acc: 97.00%, Best Val loss: 0.1030 Best Val acc: 97.00%\n",
            "Epoch 17/30, Train loss: 0.0911, Train acc: 96.31%, Val loss: 0.1058, Val acc: 97.00%, Best Val loss: 0.1030 Best Val acc: 97.00%\n",
            "Epoch 18/30, Train loss: 0.0902, Train acc: 96.69%, Val loss: 0.1015, Val acc: 97.00%, Best Val loss: 0.1015 Best Val acc: 97.00%\n",
            "Epoch 19/30, Train loss: 0.0910, Train acc: 96.62%, Val loss: 0.0963, Val acc: 97.00%, Best Val loss: 0.0963 Best Val acc: 97.00%\n",
            "Epoch 20/30, Train loss: 0.0787, Train acc: 96.06%, Val loss: 0.0950, Val acc: 96.50%, Best Val loss: 0.0950 Best Val acc: 97.00%\n",
            "Epoch 21/30, Train loss: 0.0802, Train acc: 96.44%, Val loss: 0.0957, Val acc: 96.50%, Best Val loss: 0.0950 Best Val acc: 97.00%\n",
            "Epoch 22/30, Train loss: 0.0868, Train acc: 96.31%, Val loss: 0.0975, Val acc: 97.00%, Best Val loss: 0.0950 Best Val acc: 97.00%\n",
            "Epoch 23/30, Train loss: 0.0821, Train acc: 96.56%, Val loss: 0.0976, Val acc: 97.00%, Best Val loss: 0.0950 Best Val acc: 97.00%\n",
            "Epoch 24/30, Train loss: 0.0828, Train acc: 96.88%, Val loss: 0.0979, Val acc: 97.00%, Best Val loss: 0.0950 Best Val acc: 97.00%\n",
            "Epoch 25/30, Train loss: 0.0829, Train acc: 96.69%, Val loss: 0.0970, Val acc: 96.75%, Best Val loss: 0.0950 Best Val acc: 97.00%\n",
            "Epoch 26/30, Train loss: 0.0800, Train acc: 96.44%, Val loss: 0.0959, Val acc: 96.50%, Best Val loss: 0.0950 Best Val acc: 97.00%\n",
            "Epoch 27/30, Train loss: 0.0864, Train acc: 96.56%, Val loss: 0.0968, Val acc: 96.75%, Best Val loss: 0.0950 Best Val acc: 97.00%\n",
            "Epoch 28/30, Train loss: 0.0944, Train acc: 96.44%, Val loss: 0.0973, Val acc: 96.75%, Best Val loss: 0.0950 Best Val acc: 97.00%\n",
            "Epoch 29/30, Train loss: 0.0849, Train acc: 97.25%, Val loss: 0.0970, Val acc: 96.75%, Best Val loss: 0.0950 Best Val acc: 97.00%\n",
            "Epoch 30/30, Train loss: 0.0820, Train acc: 97.12%, Val loss: 0.0976, Val acc: 96.75%, Best Val loss: 0.0950 Best Val acc: 97.00%\n"
          ]
        }
      ],
      "source": [
        "import torch.optim as optim\n",
        "from torch.optim.lr_scheduler import CosineAnnealingLR, StepLR\n",
        "from tqdm.auto import tqdm\n",
        "\n",
        "train_losses = []\n",
        "val_losses = []\n",
        "train_accuracies = []\n",
        "val_accuracies = []\n",
        "\n",
        "epochs = 30\n",
        "\n",
        "# Change you model here\n",
        "# model = ConvGAP()\n",
        "model = ConvModel()\n",
        "\n",
        "print(model)\n",
        "model = model.cuda()\n",
        "\n",
        "best_val_loss = float('inf')\n",
        "best_val_acc = -1\n",
        "\n",
        "criterion = nn.BCEWithLogitsLoss()\n",
        "optimizer = optim.Adam(model.parameters(), lr=1e-3)\n",
        "# lr_scheduler = CosineAnnealingLR(optimizer, T_max=len(train_loader)*epochs, eta_min=0)\n",
        "lr_scheduler = StepLR(optimizer, step_size=10, gamma=0.1)\n",
        "\n",
        "for epoch in tqdm(range(epochs)):\n",
        "    # Training\n",
        "    model.train()\n",
        "    total_loss = 0.0\n",
        "    train_correct = 0\n",
        "    total_train_samples = 0\n",
        "\n",
        "    for images, labels in train_loader:\n",
        "        images = images.cuda()\n",
        "        images = images / 255.\n",
        "        labels = labels.cuda()\n",
        "        optimizer.zero_grad()\n",
        "        outputs = model(images)\n",
        "\n",
        "        labels = labels.float().unsqueeze(1)\n",
        "\n",
        "        loss = criterion(outputs, labels)\n",
        "        loss.backward()\n",
        "        optimizer.step()\n",
        "        total_loss += loss.item()\n",
        "\n",
        "        train_predicted = torch.sigmoid(outputs) > 0.5\n",
        "        train_correct += (train_predicted.float() == labels).sum().item()\n",
        "        total_train_samples += labels.size(0)\n",
        "\n",
        "    avg_train_loss = total_loss / len(train_loader)\n",
        "    train_accuracy = 100. * train_correct / total_train_samples\n",
        "\n",
        "    # Validation\n",
        "    model.eval()\n",
        "    total_val_loss = 0.0\n",
        "    correct = 0\n",
        "    total = 0\n",
        "    with torch.no_grad():\n",
        "        for images, labels in val_loader:\n",
        "            images = images.cuda()\n",
        "            images = images / 255.\n",
        "            labels = labels.cuda()\n",
        "            outputs = model(images)\n",
        "\n",
        "            labels = labels.float().unsqueeze(1)\n",
        "\n",
        "            loss = criterion(outputs, labels)\n",
        "            total_val_loss += loss.item()\n",
        "\n",
        "            predicted = torch.sigmoid(outputs) > 0.5\n",
        "            correct += (predicted.float() == labels).sum().item()\n",
        "            total += labels.size(0)\n",
        "\n",
        "    avg_val_loss = total_val_loss / len(val_loader)\n",
        "    val_accuracy = 100. * correct / total\n",
        "\n",
        "    # Learning rate update\n",
        "    lr_scheduler.step()\n",
        "\n",
        "    # Checkpoint\n",
        "    if avg_val_loss < best_val_loss:\n",
        "        best_val_loss = avg_val_loss\n",
        "        torch.save(model.state_dict(), 'model_classification.pth')\n",
        "\n",
        "    if val_accuracy > best_val_acc:\n",
        "        best_val_acc = val_accuracy\n",
        "\n",
        "    print(f'Epoch {epoch+1}/{epochs}, Train loss: {avg_train_loss:.4f}, Train acc: {train_accuracy:.2f}%, Val loss: {avg_val_loss:.4f}, Val acc: {val_accuracy:.2f}%, Best Val loss: {best_val_loss:.4f} Best Val acc: {best_val_acc:.2f}%')\n",
        "\n",
        "    # Store performance\n",
        "    train_losses.append(avg_train_loss)\n",
        "    train_accuracies.append(train_accuracy)\n",
        "    val_losses.append(avg_val_loss)\n",
        "    val_accuracies.append(val_accuracy)"
      ]
    },
    {
      "cell_type": "markdown",
      "metadata": {
        "id": "pjmYxAJnxc6t"
      },
      "source": [
        "### Visualizing model performance"
      ]
    },
    {
      "cell_type": "code",
      "execution_count": null,
      "metadata": {
        "id": "pHpS0Q7vxc6t",
        "colab": {
          "base_uri": "https://localhost:8080/",
          "height": 487
        },
        "outputId": "3ffd7f2b-5147-47a9-fb4c-e1ec8906c835"
      },
      "outputs": [
        {
          "output_type": "display_data",
          "data": {
            "text/plain": [
              "<Figure size 1500x500 with 2 Axes>"
            ],
            "image/png": "[encoded data removed]"
          },
          "metadata": {}
        }
      ],
      "source": [
        "import matplotlib.pyplot as plt\n",
        "\n",
        "fig, ax = plt.subplots(1, 2, figsize=(15, 5))\n",
        "\n",
        "# Plotting training and validation accuracy\n",
        "ax[0].plot(train_accuracies)\n",
        "ax[0].plot(val_accuracies)\n",
        "ax[0].set_title('Model Accuracy')\n",
        "ax[0].set_xlabel('Epochs')\n",
        "ax[0].set_ylabel('Accuracy')\n",
        "ax[0].legend(['Train', 'Val'])\n",
        "\n",
        "# Plotting training and validation loss\n",
        "ax[1].plot(train_losses)\n",
        "ax[1].plot(val_losses)\n",
        "ax[1].set_title('Model Loss')\n",
        "ax[1].set_xlabel('Epochs')\n",
        "ax[1].set_ylabel('Loss')\n",
        "ax[1].legend(['Train', 'Val'])\n",
        "\n",
        "plt.show()"
      ]
    },
    {
      "cell_type": "markdown",
      "metadata": {
        "id": "VeQX8qkI0bPZ"
      },
      "source": [
        "## D. Evaluating Your Trained Model"
      ]
    },
    {
      "cell_type": "code",
      "execution_count": null,
      "metadata": {
        "id": "P3EBvO7b0bPZ"
      },
      "outputs": [],
      "source": [
        "# !wget https://raw.githubusercontent.com/TacoXDD/homeworks/master/dataset/test/test_normal.npy\n",
        "# !wget https://raw.githubusercontent.com/TacoXDD/homeworks/master/dataset/test/test_pneumonia.npy"
      ]
    },
    {
      "cell_type": "markdown",
      "metadata": {
        "id": "VPvqHiVY0bPZ"
      },
      "source": [
        "### Process Test Dataset"
      ]
    },
    {
      "cell_type": "code",
      "execution_count": null,
      "metadata": {
        "id": "olpOD9xz0bPZ"
      },
      "outputs": [],
      "source": [
        "# test_abnormal = np.load('test_pneumonia.npy')\n",
        "# test_normal = np.load('test_normal.npy')\n",
        "\n",
        "# print(f'Shape of test_abnormal: {test_abnormal.shape}')\n",
        "# print(f'Shape of test_normal: {test_normal.shape}')\n",
        "\n",
        "# # For the data having presence of pneumonia assign 1, for the normal ones assign 0.\n",
        "# test_abnormal_labels = np.ones((test_abnormal.shape[0],))\n",
        "# test_normal_labels = np.zeros((test_normal.shape[0],))\n",
        "\n",
        "# x_test = np.concatenate((test_abnormal, test_normal), axis=0)\n",
        "# y_test = np.concatenate((test_abnormal_labels, test_normal_labels), axis=0)\n",
        "\n",
        "# print(f'Shape of x_test: {x_test.shape}')\n",
        "# print(f'Shape of y_test: {y_test.shape}')\n",
        "\n",
        "# # Convert to PyTorch tensors\n",
        "# x_test = ...\n",
        "# y_test = ...\n",
        "\n",
        "# # Combine the images and labels into a dataset\n",
        "\n",
        "# # Create a dataloader to load data in batches. Set batch size to 32.\n",
        "# test_loader = ..."
      ]
    },
    {
      "cell_type": "markdown",
      "metadata": {
        "id": "xDceHct90bPa"
      },
      "source": [
        "### Load Trained Model and Evaluate"
      ]
    },
    {
      "cell_type": "code",
      "execution_count": null,
      "metadata": {
        "id": "XqIFNsHN0bPa"
      },
      "outputs": [],
      "source": [
        "# test_correct = 0\n",
        "# test_total = 0\n",
        "\n",
        "# # Declare the model architecture\n",
        "# model = nn.Sequential(\n",
        "#     ...\n",
        "# ).cuda()\n",
        "\n",
        "# # Load the trained weights\n",
        "# model.load_state_dict(...)\n",
        "\n",
        "# # Set the model to evaluation mode\n",
        "# ...\n",
        "\n",
        "# with torch.no_grad():\n",
        "#     for images, labels in ...:\n",
        "\n",
        "#         images = ...\n",
        "#         images = ...\n",
        "\n",
        "#         labels = ...\n",
        "\n",
        "#         outputs = ...\n",
        "\n",
        "#         labels_float = labels.float().unsqueeze(1)  # Convert labels to float and match shape with outputs\n",
        "#         predicted = ...\n",
        "\n",
        "#         test_correct += (predicted.float() == labels_float).sum().item()\n",
        "#         test_total += labels.size(0)\n",
        "\n",
        "# print(f'Test accuracy is {...}%.')"
      ]
    },
    {
      "cell_type": "code",
      "execution_count": null,
      "metadata": {
        "id": "8G4vf_u90bPa"
      },
      "outputs": [],
      "source": []
    }
  ],
  "metadata": {
    "accelerator": "GPU",
    "colab": {
      "gpuType": "T4",
      "provenance": [],
      "include_colab_link": true
    },
    "kernelspec": {
      "display_name": "Python 3 (ipykernel)",
      "language": "python",
      "name": "python3"
    },
    "language_info": {
      "codemirror_mode": {
        "name": "ipython",
        "version": 3
      },
      "file_extension": ".py",
      "mimetype": "text/x-python",
      "name": "python",
      "nbconvert_exporter": "python",
      "pygments_lexer": "ipython3",
      "version": "3.8.13"
    },
    "widgets": {
      "application/vnd.jupyter.widget-state+json": {
        "7c3851d7d70648f5ba7231ffccaff56e": {
          "model_module": "@jupyter-widgets/controls",
          "model_name": "HBoxModel",
          "model_module_version": "1.5.0",
          "state": {
            "_dom_classes": [],
            "_model_module": "@jupyter-widgets/controls",
            "_model_module_version": "1.5.0",
            "_model_name": "HBoxModel",
            "_view_count": null,
            "_view_module": "@jupyter-widgets/controls",
            "_view_module_version": "1.5.0",
            "_view_name": "HBoxView",
            "box_style": "",
            "children": [
              "IPY_MODEL_5878cab5af134ac28807706155fe6608",
              "IPY_MODEL_851bb97a802e4063bce4c19552f2c6d2",
              "IPY_MODEL_d574702d6e97428f9b43e71b8b5eb03e"
            ],
            "layout": "IPY_MODEL_64849f1d6d5a48f5855a75262051ca43"
          }
        },
        "5878cab5af134ac28807706155fe6608": {
          "model_module": "@jupyter-widgets/controls",
          "model_name": "HTMLModel",
          "model_module_version": "1.5.0",
          "state": {
            "_dom_classes": [],
            "_model_module": "@jupyter-widgets/controls",
            "_model_module_version": "1.5.0",
            "_model_name": "HTMLModel",
            "_view_count": null,
            "_view_module": "@jupyter-widgets/controls",
            "_view_module_version": "1.5.0",
            "_view_name": "HTMLView",
            "description": "",
            "description_tooltip": null,
            "layout": "IPY_MODEL_be9afd9457fb4651b15ef3b56e1a6519",
            "placeholder": "​",
            "style": "IPY_MODEL_72f65673ed3d464585ac47cfcc2426fc",
            "value": "100%"
          }
        },
        "851bb97a802e4063bce4c19552f2c6d2": {
          "model_module": "@jupyter-widgets/controls",
          "model_name": "FloatProgressModel",
          "model_module_version": "1.5.0",
          "state": {
            "_dom_classes": [],
            "_model_module": "@jupyter-widgets/controls",
            "_model_module_version": "1.5.0",
            "_model_name": "FloatProgressModel",
            "_view_count": null,
            "_view_module": "@jupyter-widgets/controls",
            "_view_module_version": "1.5.0",
            "_view_name": "ProgressView",
            "bar_style": "success",
            "description": "",
            "description_tooltip": null,
            "layout": "IPY_MODEL_3ed11c92008c4b529ff3ca959b536f56",
            "max": 30,
            "min": 0,
            "orientation": "horizontal",
            "style": "IPY_MODEL_381217bb9bf44b5d9d3b9f698fa1ad48",
            "value": 30
          }
        },
        "d574702d6e97428f9b43e71b8b5eb03e": {
          "model_module": "@jupyter-widgets/controls",
          "model_name": "HTMLModel",
          "model_module_version": "1.5.0",
          "state": {
            "_dom_classes": [],
            "_model_module": "@jupyter-widgets/controls",
            "_model_module_version": "1.5.0",
            "_model_name": "HTMLModel",
            "_view_count": null,
            "_view_module": "@jupyter-widgets/controls",
            "_view_module_version": "1.5.0",
            "_view_name": "HTMLView",
            "description": "",
            "description_tooltip": null,
            "layout": "IPY_MODEL_b7c2b41831c44378a8ca83a06b749996",
            "placeholder": "​",
            "style": "IPY_MODEL_d65c2e117d9e45e882f62214fc9672a5",
            "value": " 30/30 [01:11&lt;00:00,  2.37s/it]"
          }
        },
        "64849f1d6d5a48f5855a75262051ca43": {
          "model_module": "@jupyter-widgets/base",
          "model_name": "LayoutModel",
          "model_module_version": "1.2.0",
          "state": {
            "_model_module": "@jupyter-widgets/base",
            "_model_module_version": "1.2.0",
            "_model_name": "LayoutModel",
            "_view_count": null,
            "_view_module": "@jupyter-widgets/base",
            "_view_module_version": "1.2.0",
            "_view_name": "LayoutView",
            "align_content": null,
            "align_items": null,
            "align_self": null,
            "border": null,
            "bottom": null,
            "display": null,
            "flex": null,
            "flex_flow": null,
            "grid_area": null,
            "grid_auto_columns": null,
            "grid_auto_flow": null,
            "grid_auto_rows": null,
            "grid_column": null,
            "grid_gap": null,
            "grid_row": null,
            "grid_template_areas": null,
            "grid_template_columns": null,
            "grid_template_rows": null,
            "height": null,
            "justify_content": null,
            "justify_items": null,
            "left": null,
            "margin": null,
            "max_height": null,
            "max_width": null,
            "min_height": null,
            "min_width": null,
            "object_fit": null,
            "object_position": null,
            "order": null,
            "overflow": null,
            "overflow_x": null,
            "overflow_y": null,
            "padding": null,
            "right": null,
            "top": null,
            "visibility": null,
            "width": null
          }
        },
        "be9afd9457fb4651b15ef3b56e1a6519": {
          "model_module": "@jupyter-widgets/base",
          "model_name": "LayoutModel",
          "model_module_version": "1.2.0",
          "state": {
            "_model_module": "@jupyter-widgets/base",
            "_model_module_version": "1.2.0",
            "_model_name": "LayoutModel",
            "_view_count": null,
            "_view_module": "@jupyter-widgets/base",
            "_view_module_version": "1.2.0",
            "_view_name": "LayoutView",
            "align_content": null,
            "align_items": null,
            "align_self": null,
            "border": null,
            "bottom": null,
            "display": null,
            "flex": null,
            "flex_flow": null,
            "grid_area": null,
            "grid_auto_columns": null,
            "grid_auto_flow": null,
            "grid_auto_rows": null,
            "grid_column": null,
            "grid_gap": null,
            "grid_row": null,
            "grid_template_areas": null,
            "grid_template_columns": null,
            "grid_template_rows": null,
            "height": null,
            "justify_content": null,
            "justify_items": null,
            "left": null,
            "margin": null,
            "max_height": null,
            "max_width": null,
            "min_height": null,
            "min_width": null,
            "object_fit": null,
            "object_position": null,
            "order": null,
            "overflow": null,
            "overflow_x": null,
            "overflow_y": null,
            "padding": null,
            "right": null,
            "top": null,
            "visibility": null,
            "width": null
          }
        },
        "72f65673ed3d464585ac47cfcc2426fc": {
          "model_module": "@jupyter-widgets/controls",
          "model_name": "DescriptionStyleModel",
          "model_module_version": "1.5.0",
          "state": {
            "_model_module": "@jupyter-widgets/controls",
            "_model_module_version": "1.5.0",
            "_model_name": "DescriptionStyleModel",
            "_view_count": null,
            "_view_module": "@jupyter-widgets/base",
            "_view_module_version": "1.2.0",
            "_view_name": "StyleView",
            "description_width": ""
          }
        },
        "3ed11c92008c4b529ff3ca959b536f56": {
          "model_module": "@jupyter-widgets/base",
          "model_name": "LayoutModel",
          "model_module_version": "1.2.0",
          "state": {
            "_model_module": "@jupyter-widgets/base",
            "_model_module_version": "1.2.0",
            "_model_name": "LayoutModel",
            "_view_count": null,
            "_view_module": "@jupyter-widgets/base",
            "_view_module_version": "1.2.0",
            "_view_name": "LayoutView",
            "align_content": null,
            "align_items": null,
            "align_self": null,
            "border": null,
            "bottom": null,
            "display": null,
            "flex": null,
            "flex_flow": null,
            "grid_area": null,
            "grid_auto_columns": null,
            "grid_auto_flow": null,
            "grid_auto_rows": null,
            "grid_column": null,
            "grid_gap": null,
            "grid_row": null,
            "grid_template_areas": null,
            "grid_template_columns": null,
            "grid_template_rows": null,
            "height": null,
            "justify_content": null,
            "justify_items": null,
            "left": null,
            "margin": null,
            "max_height": null,
            "max_width": null,
            "min_height": null,
            "min_width": null,
            "object_fit": null,
            "object_position": null,
            "order": null,
            "overflow": null,
            "overflow_x": null,
            "overflow_y": null,
            "padding": null,
            "right": null,
            "top": null,
            "visibility": null,
            "width": null
          }
        },
        "381217bb9bf44b5d9d3b9f698fa1ad48": {
          "model_module": "@jupyter-widgets/controls",
          "model_name": "ProgressStyleModel",
          "model_module_version": "1.5.0",
          "state": {
            "_model_module": "@jupyter-widgets/controls",
            "_model_module_version": "1.5.0",
            "_model_name": "ProgressStyleModel",
            "_view_count": null,
            "_view_module": "@jupyter-widgets/base",
            "_view_module_version": "1.2.0",
            "_view_name": "StyleView",
            "bar_color": null,
            "description_width": ""
          }
        },
        "b7c2b41831c44378a8ca83a06b749996": {
          "model_module": "@jupyter-widgets/base",
          "model_name": "LayoutModel",
          "model_module_version": "1.2.0",
          "state": {
            "_model_module": "@jupyter-widgets/base",
            "_model_module_version": "1.2.0",
            "_model_name": "LayoutModel",
            "_view_count": null,
            "_view_module": "@jupyter-widgets/base",
            "_view_module_version": "1.2.0",
            "_view_name": "LayoutView",
            "align_content": null,
            "align_items": null,
            "align_self": null,
            "border": null,
            "bottom": null,
            "display": null,
            "flex": null,
            "flex_flow": null,
            "grid_area": null,
            "grid_auto_columns": null,
            "grid_auto_flow": null,
            "grid_auto_rows": null,
            "grid_column": null,
            "grid_gap": null,
            "grid_row": null,
            "grid_template_areas": null,
            "grid_template_columns": null,
            "grid_template_rows": null,
            "height": null,
            "justify_content": null,
            "justify_items": null,
            "left": null,
            "margin": null,
            "max_height": null,
            "max_width": null,
            "min_height": null,
            "min_width": null,
            "object_fit": null,
            "object_position": null,
            "order": null,
            "overflow": null,
            "overflow_x": null,
            "overflow_y": null,
            "padding": null,
            "right": null,
            "top": null,
            "visibility": null,
            "width": null
          }
        },
        "d65c2e117d9e45e882f62214fc9672a5": {
          "model_module": "@jupyter-widgets/controls",
          "model_name": "DescriptionStyleModel",
          "model_module_version": "1.5.0",
          "state": {
            "_model_module": "@jupyter-widgets/controls",
            "_model_module_version": "1.5.0",
            "_model_name": "DescriptionStyleModel",
            "_view_count": null,
            "_view_module": "@jupyter-widgets/base",
            "_view_module_version": "1.2.0",
            "_view_name": "StyleView",
            "description_width": ""
          }
        }
      }
    }
  },
  "nbformat": 4,
  "nbformat_minor": 0
}